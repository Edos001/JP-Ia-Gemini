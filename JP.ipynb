{
  "cells": [
    {
      "cell_type": "markdown",
      "metadata": {
        "id": "view-in-github",
        "colab_type": "text"
      },
      "source": [
        "<a href=\"https://colab.research.google.com/github/Edos001/JP-Ia-Gemini/blob/main/JP.ipynb\" target=\"_parent\"><img src=\"https://colab.research.google.com/assets/colab-badge.svg\" alt=\"Open In Colab\"/></a>"
      ]
    },
    {
      "cell_type": "markdown",
      "metadata": {
        "id": "Z-2PowNJSOn1"
      },
      "source": [
        "Instalando o SDK do Google"
      ]
    },
    {
      "cell_type": "code",
      "execution_count": 149,
      "metadata": {
        "id": "2y9KjEbsRuzy"
      },
      "outputs": [],
      "source": [
        "!pip install -q -U google-generativeai"
      ]
    },
    {
      "cell_type": "code",
      "execution_count": 150,
      "metadata": {
        "id": "N4OZJ0OdSTCt"
      },
      "outputs": [],
      "source": [
        "import google.generativeai as genai\n",
        "from google.colab import userdata\n",
        "\n",
        "ChaveAPI = userdata.get (\"ChaveAPI\")\n",
        "genai.configure(api_key=ChaveAPI)"
      ]
    },
    {
      "cell_type": "code",
      "execution_count": 151,
      "metadata": {
        "id": "012N8EvgSds3",
        "colab": {
          "base_uri": "https://localhost:8080/",
          "height": 139
        },
        "outputId": "1d4abd24-2775-4fa6-8052-5ee9c7be672e"
      },
      "outputs": [
        {
          "output_type": "stream",
          "name": "stdout",
          "text": [
            "models/gemini-1.0-pro\n",
            "models/gemini-1.0-pro-001\n",
            "models/gemini-1.0-pro-latest\n",
            "models/gemini-1.0-pro-vision-latest\n",
            "models/gemini-1.5-pro-latest\n",
            "models/gemini-pro\n",
            "models/gemini-pro-vision\n"
          ]
        }
      ],
      "source": [
        "for m in genai.list_models():\n",
        "  if'generateContent' in m.supported_generation_methods:\n",
        "    print(m.name)"
      ]
    },
    {
      "cell_type": "code",
      "execution_count": 152,
      "metadata": {
        "id": "dLt3RoUrSh8M"
      },
      "outputs": [],
      "source": [
        "generation_config = {\n",
        "      \"candidate_count\":1,\n",
        "      \"temperature\": 0.5,\n",
        "}"
      ]
    },
    {
      "cell_type": "markdown",
      "metadata": {
        "id": "sI-ApJKSV5RE"
      },
      "source": [
        "Configurações de Segurança"
      ]
    },
    {
      "cell_type": "code",
      "execution_count": 153,
      "metadata": {
        "id": "AVnkUBGFV3OM"
      },
      "outputs": [],
      "source": [
        "safety_settings = {\n",
        "    \"Harassment\": \"Block_medium_and_above\",\n",
        "    \"Hate\": \"Block_medium_and_above\",\n",
        "    \"Sexual\": \"Block_medium_and_above\",\n",
        "    \"Dangerous\": \"Block_medium_and_above\",\n",
        "}"
      ]
    },
    {
      "cell_type": "markdown",
      "metadata": {
        "id": "ZqTZcKIJXWZP"
      },
      "source": [
        "Inicializando o Modelo"
      ]
    },
    {
      "cell_type": "code",
      "execution_count": 154,
      "metadata": {
        "id": "oFS2-lfoXZ53"
      },
      "outputs": [],
      "source": [
        "model = genai.GenerativeModel(model_name=\"gemini-1.0-pro\",\n",
        "                              generation_config=generation_config,\n",
        "                              safety_settings=safety_settings)"
      ]
    },
    {
      "cell_type": "code",
      "source": [
        "response = model.generate_content(\"Me indique uma lista de produtos\")\n",
        "print(response.text)"
      ],
      "metadata": {
        "colab": {
          "base_uri": "https://localhost:8080/",
          "height": 1000
        },
        "id": "LBFegQMRf-wc",
        "outputId": "74ab64a3-bcb4-4a9f-f425-82a390444d95"
      },
      "execution_count": 155,
      "outputs": [
        {
          "output_type": "stream",
          "name": "stdout",
          "text": [
            "**Produtos de Alimentação**\n",
            "\n",
            "* Frutas e vegetais\n",
            "* Carnes e aves\n",
            "* Peixes e frutos do mar\n",
            "* Laticínios\n",
            "* Ovos\n",
            "* Pães e cereais\n",
            "* Massas e arroz\n",
            "* Leguminosas\n",
            "* Bebidas (água, sucos, refrigerantes)\n",
            "\n",
            "**Produtos de Higiene Pessoal**\n",
            "\n",
            "* Sabonetes e shampoos\n",
            "* Condicionadores e máscaras\n",
            "* Desodorantes e antitranspirantes\n",
            "* Cremes e loções\n",
            "* Maquiagem\n",
            "* Produtos para cuidados com a pele\n",
            "* Produtos para cuidados com os cabelos\n",
            "\n",
            "**Produtos de Limpeza**\n",
            "\n",
            "* Sabão em pó e líquido\n",
            "* Detergentes\n",
            "* Amaciantes\n",
            "* Limpadores multiuso\n",
            "* Limpadores de banheiro e cozinha\n",
            "* Desinfetantes\n",
            "\n",
            "**Produtos de Papelaria**\n",
            "\n",
            "* Papel para impressão\n",
            "* Cadernos e blocos de notas\n",
            "* Canetas e lápis\n",
            "* Marcadores e canetas coloridas\n",
            "* Pastas e fichários\n",
            "* Grampos e clipes\n",
            "\n",
            "**Produtos Eletrônicos**\n",
            "\n",
            "* Smartphones\n",
            "* Tablets\n",
            "* Notebooks\n",
            "* Desktops\n",
            "* Impressoras\n",
            "* TVs\n",
            "* Som automotivo\n",
            "\n",
            "**Produtos de Vestuário**\n",
            "\n",
            "* Roupas (camisas, calças, vestidos, etc.)\n",
            "* Calçados (tênis, sapatos, sandálias, etc.)\n",
            "* Acessórios (cintos, bolsas, chapéus, etc.)\n",
            "\n",
            "**Produtos de Decoração**\n",
            "\n",
            "* Móveis\n",
            "* Quadros e pinturas\n",
            "* Tapetes\n",
            "* Cortinas\n",
            "* Almofadas\n",
            "* Plantas e flores\n",
            "\n",
            "**Produtos de Saúde**\n",
            "\n",
            "* Medicamentos\n",
            "* Suplementos alimentares\n",
            "* Produtos de primeiros socorros\n",
            "* Equipamentos médicos (termômetros, monitores de pressão arterial, etc.)\n",
            "\n",
            "**Outros Produtos**\n",
            "\n",
            "* Brinquedos\n",
            "* Jogos\n",
            "* Livros\n",
            "* Filmes\n",
            "* Música\n",
            "* Artigos esportivos\n",
            "* Ferramentas\n",
            "* Materiais de construção\n"
          ]
        }
      ]
    },
    {
      "cell_type": "code",
      "execution_count": 156,
      "metadata": {
        "id": "YoEjovaQbtjE"
      },
      "outputs": [],
      "source": [
        "chat = model.start_chat (history=[])"
      ]
    },
    {
      "cell_type": "code",
      "source": [
        "print(\"Fala galera! Sou o JP o Jorge Produtos! \")\n",
        "\n",
        "while True:\n",
        "    # Pergunta se o usuário é vendedor ou cliente\n",
        "    tipo_usuario = input(\"Você está aqui para comprar ou vender? (Digite 'comprar' ou 'vender'): \")\n",
        "\n",
        "    # Valida a entrada do usuário\n",
        "    if tipo_usuario.lower() not in [\"comprar\", \"vender\"]:\n",
        "        print(\"Poxa, não entendi! Digite 'comprar' ou 'vender' para continuarmos.\")\n",
        "        continuesdf\n",
        "\n",
        "    # Saudacao e direcionamento de acordo com o tipo de usuário\n",
        "    if tipo_usuario.lower() == \"comprar\":\n",
        "        print(\"Beleza! Posso te ajudar a encontrar o produto perfeito? \")\n",
        "        print(\"Veja se seu produto se encontra na lista abaixo \")\n",
        "        print(response.text)\n",
        "        produto_desejado = input(\"Qual produto você procura? \")\n",
        "\n",
        "        # lista criada com IA Gemini\n",
        "        produtos_similares = response.text\n",
        "\n",
        "        # Verifica se o produto desejado está na lista retornada pela IA\n",
        "        if produto_desejado in produtos_similares:\n",
        "            print(f\"Legal! Um de nossos vendedores entrará em contato em breve para te ajudar com a compra do produto escolhido.\")\n",
        "            print(\"Muito obrigado pelo contato com a JP!\")\n",
        "            break\n",
        "        else:\n",
        "            print(f\"Poxa, não encontrei o produto {produto_desejado} na nossa lista. Que tal pedir para que um de nossos vendedores efetue o cadastro dele.\")\n",
        "            deseja_cadastrar = input(\"Deseja solicitar o cadastro do produto? (Digite 'sim' ou 'não'): \")\n",
        "\n",
        "            if deseja_cadastrar.lower() == \"sim\":\n",
        "                print(\"Ótimo! Para solicitar o cadastro do produto preeencha o seguinte formulário:\")\n",
        "                print(\"https://forms.gle/DwUfVCu4YhmuVJSF6\")\n",
        "                print(\"Assim que o produto for cadastrado um de nossos vendedores entrará em contato\")\n",
        "                break\n",
        "            if deseja_cadastrar.lower() == \"sim\":\n",
        "                cadastra_produto_ia_gemini(produto_desejado)\n",
        "                print(f\"Produto {produto_desejado} cadastrado com sucesso! Um de nossos vendedores entrará em contato em breve para te auxiliar.\")\n",
        "                break\n",
        "            else:\n",
        "                print(\"Tudo bem! Obrigado pelo seu interesse. Continue conosco para encontrar outros produtos.\")\n",
        "                break\n",
        "\n",
        "    else:\n",
        "        # Se o usuário digitar \"vendedor\", solicite o ID e nome do vendedor\n",
        "        id_vendedor = input(\"Digite seu ID de vendedor: \")\n",
        "        nome_vendedor = input(\"Digite seu nome de vendedor: \")\n",
        "\n",
        "        # Valida o ID e nome do vendedor\n",
        "        if id_vendedor != \"1\" or nome_vendedor != \"teste\":\n",
        "            print(\"ID ou nome de vendedor inválido. Entre em contato com o time de cadastros para regularizar seu acesso.\")\n",
        "            break\n",
        "\n",
        "        # Se o ID e nome forem válidos, apresente as opções para o vendedor\n",
        "        print(\"E aí, parceiro! Quer ver a lista de cadastros ou já quer cadastrar algum produto novo?\")\n",
        "        print(\"1 - Verificar lista de produtos para cadastrados\")\n",
        "        print(\"2 - Cadastrar novo produto\")\n",
        "        opção_vendedor = input(\"Digite a opção desejada: \")\n",
        "\n",
        "        if opção_vendedor == \"1\":\n",
        "            # Exibir a lista de produtos cadastrados\n",
        "            print(\"Você pode verificar a lista de desejo de produtos aqui: https://docs.google.com/spreadsheets/d/1t6AWdJinpkbj5Bv4jnXrFJp02V4UvbE3QW1hKwWQV4I/edit?resourcekey#gid=1921930407\")\n",
        "            print(\"Obrigado por trabalhar conosco!\")\n",
        "            break\n",
        "        elif opção_vendedor == \"2\":\n",
        "            # Cadastrar novo produto\n",
        "            print(\"Ótimo! Para cadastrar o produto preeencha o seguintes dados\")\n",
        "            nome_produto = input(\"Nome do produto: \")\n",
        "            tipo_produto = input(\"Tipo do produto: \")\n",
        "            print(f\"O produto {nome_produto} do tipo {tipo_produto} vai ser cadastrado em breve!\")\n",
        "            print(\"Avisaremos assim que o produto subir no sistema\")\n",
        "            break\n",
        "        else:\n",
        "            print(\"Opção inválida. Tente novamente.\")"
      ],
      "metadata": {
        "colab": {
          "base_uri": "https://localhost:8080/"
        },
        "id": "vkOG5yMph89K",
        "outputId": "01612b72-c441-482e-c185-045d5374b377"
      },
      "execution_count": 158,
      "outputs": [
        {
          "output_type": "stream",
          "name": "stdout",
          "text": [
            "Fala galera! Sou o JP o Jorge Produtos! \n",
            "Você está aqui para comprar ou vender? (Digite 'comprar' ou 'vender'): Comprar\n",
            "Beleza! Posso te ajudar a encontrar o produto perfeito? \n",
            "Veja se seu produto se encontra na lista abaixo \n",
            "**Produtos de Alimentação**\n",
            "\n",
            "* Frutas e vegetais\n",
            "* Carnes e aves\n",
            "* Peixes e frutos do mar\n",
            "* Laticínios\n",
            "* Ovos\n",
            "* Pães e cereais\n",
            "* Massas e arroz\n",
            "* Leguminosas\n",
            "* Bebidas (água, sucos, refrigerantes)\n",
            "\n",
            "**Produtos de Higiene Pessoal**\n",
            "\n",
            "* Sabonetes e shampoos\n",
            "* Condicionadores e máscaras\n",
            "* Desodorantes e antitranspirantes\n",
            "* Cremes e loções\n",
            "* Maquiagem\n",
            "* Produtos para cuidados com a pele\n",
            "* Produtos para cuidados com os cabelos\n",
            "\n",
            "**Produtos de Limpeza**\n",
            "\n",
            "* Sabão em pó e líquido\n",
            "* Detergentes\n",
            "* Amaciantes\n",
            "* Limpadores multiuso\n",
            "* Limpadores de banheiro e cozinha\n",
            "* Desinfetantes\n",
            "\n",
            "**Produtos de Papelaria**\n",
            "\n",
            "* Papel para impressão\n",
            "* Cadernos e blocos de notas\n",
            "* Canetas e lápis\n",
            "* Marcadores e canetas coloridas\n",
            "* Pastas e fichários\n",
            "* Grampos e clipes\n",
            "\n",
            "**Produtos Eletrônicos**\n",
            "\n",
            "* Smartphones\n",
            "* Tablets\n",
            "* Notebooks\n",
            "* Desktops\n",
            "* Impressoras\n",
            "* TVs\n",
            "* Som automotivo\n",
            "\n",
            "**Produtos de Vestuário**\n",
            "\n",
            "* Roupas (camisas, calças, vestidos, etc.)\n",
            "* Calçados (tênis, sapatos, sandálias, etc.)\n",
            "* Acessórios (cintos, bolsas, chapéus, etc.)\n",
            "\n",
            "**Produtos de Decoração**\n",
            "\n",
            "* Móveis\n",
            "* Quadros e pinturas\n",
            "* Tapetes\n",
            "* Cortinas\n",
            "* Almofadas\n",
            "* Plantas e flores\n",
            "\n",
            "**Produtos de Saúde**\n",
            "\n",
            "* Medicamentos\n",
            "* Suplementos alimentares\n",
            "* Produtos de primeiros socorros\n",
            "* Equipamentos médicos (termômetros, monitores de pressão arterial, etc.)\n",
            "\n",
            "**Outros Produtos**\n",
            "\n",
            "* Brinquedos\n",
            "* Jogos\n",
            "* Livros\n",
            "* Filmes\n",
            "* Música\n",
            "* Artigos esportivos\n",
            "* Ferramentas\n",
            "* Materiais de construção\n",
            "Qual produto você procura? Banana\n",
            "Poxa, não encontrei o produto Banana na nossa lista. Que tal pedir para que um de nossos vendedores efetue o cadastro dele.\n",
            "Deseja solicitar o cadastro do produto? (Digite 'sim' ou 'não'): Sim\n",
            "Ótimo! Para solicitar o cadastro do produto preeencha o seguinte formulário:\n",
            "https://forms.gle/DwUfVCu4YhmuVJSF6\n",
            "Assim que o produto for cadastrado um de nossos vendedores entrará em contato\n"
          ]
        }
      ]
    }
  ],
  "metadata": {
    "colab": {
      "provenance": [],
      "authorship_tag": "ABX9TyNODecRfFUFEZ5Vhl1iSzIG",
      "include_colab_link": true
    },
    "kernelspec": {
      "display_name": "Python 3",
      "name": "python3"
    },
    "language_info": {
      "name": "python"
    }
  },
  "nbformat": 4,
  "nbformat_minor": 0
}